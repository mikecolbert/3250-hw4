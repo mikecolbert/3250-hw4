{
 "cells": [
  {
   "cell_type": "markdown",
   "id": "2aed22b6-d61c-4d47-b06f-b2bb531efe5d",
   "metadata": {},
   "source": [
    "# HW4 \n",
    "## NHL scraping\n",
    "11/11/2024"
   ]
  },
  {
   "cell_type": "code",
   "execution_count": 3,
   "id": "322a10ae-23c9-44d0-9ea6-9fafa4067fbd",
   "metadata": {},
   "outputs": [],
   "source": [
    "## code goes here"
   ]
  },
  {
   "cell_type": "code",
   "execution_count": 4,
   "id": "cf38c8ba-43dd-4ff8-817e-593a4e70490a",
   "metadata": {},
   "outputs": [
    {
     "name": "stdout",
     "output_type": "stream",
     "text": [
      "hello world\n"
     ]
    }
   ],
   "source": [
    "print(\"hello world\")"
   ]
  }
 ],
 "metadata": {
  "kernelspec": {
   "display_name": "Python 3 (ipykernel)",
   "language": "python",
   "name": "python3"
  },
  "language_info": {
   "codemirror_mode": {
    "name": "ipython",
    "version": 3
   },
   "file_extension": ".py",
   "mimetype": "text/x-python",
   "name": "python",
   "nbconvert_exporter": "python",
   "pygments_lexer": "ipython3",
   "version": "3.12.2"
  }
 },
 "nbformat": 4,
 "nbformat_minor": 5
}
